{
 "cells": [
  {
   "cell_type": "markdown",
   "metadata": {},
   "source": [
    "How to use: create a client, specifying the path to the file where credentials are stored.\n",
    "Example of file:\n",
    "\n",
    "\"client_id\",\"client_secret\",\"user_email\",\"user_password\"\n",
    "CLIENT_ID_HERE,CLIENT_SECRET_HERE,YOUR_PERSONAL_EMAIL_HERE,YOUR_PERSONAL_PASSWORD_HERE\n"
   ]
  },
  {
   "cell_type": "code",
   "execution_count": 2,
   "metadata": {},
   "outputs": [
    {
     "name": "stdout",
     "output_type": "stream",
     "text": [
      "aaa\n"
     ]
    }
   ],
   "source": [
    "from WiseairClient import WiseairClient\n",
    "client=WiseairClient(\"personalAccessToken.csv\",\"http://localhost:8000\")"
   ]
  },
  {
   "cell_type": "code",
   "execution_count": 5,
   "metadata": {},
   "outputs": [
    {
     "data": {
      "text/plain": [
       "{'current_page': 1,\n",
       " 'data': [],\n",
       " 'first_page_url': 'http://localhost:8000/api/live-air-quality?page=1',\n",
       " 'from': None,\n",
       " 'last_page': 1,\n",
       " 'last_page_url': 'http://localhost:8000/api/live-air-quality?page=1',\n",
       " 'next_page_url': None,\n",
       " 'path': 'http://localhost:8000/api/live-air-quality',\n",
       " 'per_page': 100,\n",
       " 'prev_page_url': None,\n",
       " 'to': None,\n",
       " 'total': 0}"
      ]
     },
     "execution_count": 5,
     "metadata": {},
     "output_type": "execute_result"
    }
   ],
   "source": [
    "currentMeasures=client.getLiveAirQuality()\n",
    "currentMeasures"
   ]
  },
  {
   "cell_type": "code",
   "execution_count": 4,
   "metadata": {},
   "outputs": [
    {
     "ename": "IndexError",
     "evalue": "list index out of range",
     "output_type": "error",
     "traceback": [
      "\u001b[0;31m---------------------------------------------------------------------------\u001b[0m",
      "\u001b[0;31mIndexError\u001b[0m                                Traceback (most recent call last)",
      "\u001b[0;32m<ipython-input-4-6d9fcfcc5f23>\u001b[0m in \u001b[0;36m<module>\u001b[0;34m\u001b[0m\n\u001b[0;32m----> 1\u001b[0;31m \u001b[0mpotId\u001b[0m\u001b[0;34m=\u001b[0m\u001b[0mcurrentMeasures\u001b[0m\u001b[0;34m[\u001b[0m\u001b[0;34m\"data\"\u001b[0m\u001b[0;34m]\u001b[0m\u001b[0;34m[\u001b[0m\u001b[0;36m0\u001b[0m\u001b[0;34m]\u001b[0m\u001b[0;34m[\u001b[0m\u001b[0;34m\"pot_id\"\u001b[0m\u001b[0;34m]\u001b[0m\u001b[0;34m\u001b[0m\u001b[0;34m\u001b[0m\u001b[0m\n\u001b[0m\u001b[1;32m      2\u001b[0m \u001b[0;31m#13\u001b[0m\u001b[0;34m\u001b[0m\u001b[0;34m\u001b[0m\u001b[0;34m\u001b[0m\u001b[0m\n\u001b[1;32m      3\u001b[0m \u001b[0mBEGIN_DATE\u001b[0m\u001b[0;34m,\u001b[0m\u001b[0mEND_DATE\u001b[0m\u001b[0;34m=\u001b[0m\u001b[0;34m\"2020-02-15\"\u001b[0m\u001b[0;34m,\u001b[0m\u001b[0;34m\"2020-03-11\"\u001b[0m\u001b[0;34m\u001b[0m\u001b[0;34m\u001b[0m\u001b[0m\n\u001b[1;32m      4\u001b[0m \u001b[0mdata\u001b[0m\u001b[0;34m=\u001b[0m\u001b[0mclient\u001b[0m\u001b[0;34m.\u001b[0m\u001b[0mgetDataOfPotByInterval\u001b[0m\u001b[0;34m(\u001b[0m\u001b[0mpotId\u001b[0m\u001b[0;34m,\u001b[0m\u001b[0mBEGIN_DATE\u001b[0m\u001b[0;34m,\u001b[0m\u001b[0mEND_DATE\u001b[0m\u001b[0;34m)\u001b[0m\u001b[0;34m\u001b[0m\u001b[0;34m\u001b[0m\u001b[0m\n\u001b[1;32m      5\u001b[0m \u001b[0mdata\u001b[0m\u001b[0;34m\u001b[0m\u001b[0;34m\u001b[0m\u001b[0m\n",
      "\u001b[0;31mIndexError\u001b[0m: list index out of range"
     ]
    }
   ],
   "source": [
    "potId=currentMeasures[\"data\"][0][\"pot_id\"]\n",
    "#13\n",
    "BEGIN_DATE,END_DATE=\"2020-02-15\",\"2020-03-11\"\n",
    "data=client.getDataOfPotByInterval(potId,BEGIN_DATE,END_DATE)\n",
    "data"
   ]
  },
  {
   "cell_type": "code",
   "execution_count": null,
   "metadata": {},
   "outputs": [],
   "source": [
    "from WiseairClient import WiseairUtils"
   ]
  },
  {
   "cell_type": "code",
   "execution_count": null,
   "metadata": {},
   "outputs": [],
   "source": [
    "utils=WiseairUtils()\n",
    "data=utils.getPandasDataFrameFromDataOfSingleSensor(data)\n",
    "\n",
    "data.to_csv(\"sampleData.csv\")"
   ]
  },
  {
   "cell_type": "code",
   "execution_count": null,
   "metadata": {},
   "outputs": [],
   "source": [
    "import csv\n",
    "with open(\"personalAccessToken.csv\",\"r\") as csvFile:\n",
    "    dic=csv.DictReader(csvFile)\n",
    "    for row in dic:\n",
    "        token=row[\"personalAccessToken\"]\n",
    "        \n",
    "print(token)\n"
   ]
  }
 ],
 "metadata": {
  "kernelspec": {
   "display_name": "Python 3",
   "language": "python",
   "name": "python3"
  },
  "language_info": {
   "codemirror_mode": {
    "name": "ipython",
    "version": 3
   },
   "file_extension": ".py",
   "mimetype": "text/x-python",
   "name": "python",
   "nbconvert_exporter": "python",
   "pygments_lexer": "ipython3",
   "version": "3.6.10"
  }
 },
 "nbformat": 4,
 "nbformat_minor": 2
}
