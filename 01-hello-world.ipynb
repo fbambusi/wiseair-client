{
 "cells": [
  {
   "cell_type": "markdown",
   "metadata": {},
   "source": [
    "How to use: create a client, specifying the path to the file where credentials are stored.\n",
    "Example of file:\n",
    "\n",
    "\"client_id\",\"client_secret\",\"user_email\",\"user_password\"\n",
    "CLIENT_ID_HERE,CLIENT_SECRET_HERE,YOUR_PERSONAL_EMAIL_HERE,YOUR_PERSONAL_PASSWORD_HERE\n"
   ]
  },
  {
   "cell_type": "code",
   "execution_count": 6,
   "metadata": {},
   "outputs": [],
   "source": [
    "from WiseairClient import WiseairClient\n",
    "client=WiseairClient(\"clientCredentials.csv\")"
   ]
  },
  {
   "cell_type": "code",
   "execution_count": 7,
   "metadata": {},
   "outputs": [],
   "source": [
    "currentMeasures=client.getLiveAirQuality()\n"
   ]
  },
  {
   "cell_type": "code",
   "execution_count": 8,
   "metadata": {},
   "outputs": [],
   "source": [
    "potId=currentMeasures[\"data\"][0][\"pot_id\"]\n",
    "#13\n",
    "BEGIN_DATE,END_DATE=\"2020-02-15\",\"2020-03-11\"\n",
    "data=client.getDataOfPotByInterval(potId,BEGIN_DATE,END_DATE)"
   ]
  },
  {
   "cell_type": "code",
   "execution_count": 9,
   "metadata": {},
   "outputs": [],
   "source": [
    "from WiseairClient import WiseairUtils"
   ]
  },
  {
   "cell_type": "code",
   "execution_count": 10,
   "metadata": {},
   "outputs": [],
   "source": [
    "utils=WiseairUtils()\n",
    "data=utils.getPandasDataFrameFromDataOfSingleSensor(data)\n",
    "\n",
    "data.to_csv(\"sampleData.csv\")"
   ]
  },
  {
   "cell_type": "code",
   "execution_count": null,
   "metadata": {},
   "outputs": [],
   "source": []
  }
 ],
 "metadata": {
  "kernelspec": {
   "display_name": "Python 3",
   "language": "python",
   "name": "python3"
  },
  "language_info": {
   "codemirror_mode": {
    "name": "ipython",
    "version": 3
   },
   "file_extension": ".py",
   "mimetype": "text/x-python",
   "name": "python",
   "nbconvert_exporter": "python",
   "pygments_lexer": "ipython3",
   "version": "3.6.10"
  }
 },
 "nbformat": 4,
 "nbformat_minor": 2
}
